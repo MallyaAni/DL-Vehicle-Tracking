{
 "cells": [
  {
   "cell_type": "code",
   "execution_count": 2,
   "metadata": {},
   "outputs": [
    {
     "name": "stderr",
     "output_type": "stream",
     "text": [
      "Using TensorFlow backend.\n",
      "/anaconda3/lib/python3.6/importlib/_bootstrap.py:219: RuntimeWarning: compiletime version 3.5 of module 'tensorflow.python.framework.fast_tensor_util' does not match runtime version 3.6\n",
      "  return f(*args, **kwds)\n"
     ]
    }
   ],
   "source": [
    "#importing necessary libraries\n",
    "import numpy as np\n",
    "np.random.seed(123)  # for reproducibility\n",
    "from keras.models import Sequential\n",
    "from keras.layers import Dense, Dropout, Activation, Flatten\n",
    "from keras.layers import Convolution2D, MaxPooling2D\n",
    "from keras.utils import np_utils\n",
    "from keras.datasets import mnist\n",
    "import matplotlib.pyplot as plt\n",
    "%matplotlib inline"
   ]
  },
  {
   "cell_type": "code",
   "execution_count": 3,
   "metadata": {},
   "outputs": [
    {
     "name": "stdout",
     "output_type": "stream",
     "text": [
      "[[ 0.  0.  0.  0.  0.  0.  0.  0.  0.  0.  0.  0.  0.  0.  0.  0.  0.  0.\n",
      "   0.  0.  0.  0.  0.  0.  0.  0.  0.  0.  0.  0.  0.  0.  0.  0.  0.  0.\n",
      "   0.  0.  0.  0.  0.  1.  0.]\n",
      " [ 0.  0.  0.  0.  0.  0.  0.  0.  0.  0.  0.  0.  0.  0.  0.  0.  0.  0.\n",
      "   0.  0.  0.  0.  0.  0.  0.  0.  0.  0.  0.  0.  0.  0.  0.  0.  0.  0.\n",
      "   0.  0.  0.  0.  0.  1.  0.]\n",
      " [ 0.  0.  0.  0.  0.  0.  0.  0.  0.  0.  0.  0.  0.  0.  0.  0.  0.  0.\n",
      "   0.  0.  0.  0.  0.  0.  0.  0.  0.  0.  0.  0.  0.  0.  0.  0.  0.  0.\n",
      "   0.  0.  0.  0.  0.  1.  0.]\n",
      " [ 0.  0.  0.  0.  0.  0.  0.  0.  0.  0.  0.  0.  0.  0.  0.  0.  0.  0.\n",
      "   0.  0.  0.  0.  0.  0.  0.  0.  0.  0.  0.  0.  0.  0.  0.  0.  0.  0.\n",
      "   0.  0.  0.  0.  0.  1.  0.]\n",
      " [ 0.  0.  0.  0.  0.  0.  0.  0.  0.  0.  0.  0.  0.  0.  0.  0.  0.  0.\n",
      "   0.  0.  0.  0.  0.  0.  0.  0.  0.  0.  0.  0.  0.  0.  0.  0.  0.  0.\n",
      "   0.  0.  0.  0.  0.  1.  0.]]\n",
      "(34799, 32, 32, 3)\n"
     ]
    }
   ],
   "source": [
    "# -*- coding: utf-8 -*-\n",
    "\"\"\"\n",
    "Created on Wed Mar  7 23:41:52 2018\n",
    "\n",
    "@author: mallyaa\n",
    "\"\"\"\n",
    "#Importing data\n",
    "import pickle\n",
    "from keras.utils import to_categorical\n",
    "training_file = 'traffic-signs-data/train.p'\n",
    "validation_file='traffic-signs-data/valid.p'\n",
    "testing_file =  'traffic-signs-data/test.p'\n",
    "signnames_file = \"traffic-signs-data/signnames.csv\"\n",
    "with open(training_file, mode='rb') as f:\n",
    "    train = pickle.load(f)\n",
    "with open(validation_file, mode='rb') as f:\n",
    "    valid = pickle.load(f)\n",
    "with open(testing_file, mode='rb') as f:\n",
    "    test = pickle.load(f)\n",
    "with open(signnames_file) as f:\n",
    "    f.readline() # Strip the header\n",
    "    tuples = [line.strip().split(',') for line in f]\n",
    "    sign_names = {int(t[0]): t[1] for t in tuples}\n",
    "    \n",
    "X_train, Y_train = train['features'], train['labels']\n",
    "Y_train = to_categorical(Y_train)\n",
    "X_val, Y_val = valid['features'], valid['labels']\n",
    "Y_val = to_categorical(Y_val)\n",
    "X_test, Y_test = test['features'], test['labels']\n",
    "Y_test = to_categorical(Y_test)\n",
    "print(Y_train[:5])\n",
    "print(X_train.shape)"
   ]
  },
  {
   "cell_type": "code",
   "execution_count": 4,
   "metadata": {},
   "outputs": [
    {
     "name": "stdout",
     "output_type": "stream",
     "text": [
      "RGB shape: (34799, 32, 32, 3)\n"
     ]
    }
   ],
   "source": [
    "#preprocessing final stage, feature-scaling\n",
    "### Preprocess the data here. It is required to normalize the data. Other preprocessing steps could include \n",
    "### converting to grayscale, etc.\n",
    "### Feel free to use as many code cells as needed.\n",
    "print('RGB shape:', X_train.shape)\n",
    "#feature scaling\n",
    "X_train = X_train.astype('float32')/255\n",
    "X_val = X_val.astype('float32')/255\n",
    "X_test = X_test.astype('float32')/255"
   ]
  },
  {
   "cell_type": "code",
   "execution_count": 4,
   "metadata": {},
   "outputs": [],
   "source": [
    "#Model setup\n",
    "from keras import regularizers\n",
    "model = Sequential()\n",
    "model.add(Convolution2D(32, (3, 3), activation='relu', input_shape=(32,32,3), padding='same'))\n",
    "model.add(MaxPooling2D(pool_size=(2,2)))\n",
    "model.add(Convolution2D(32, (3, 3), activation='relu', input_shape=(32,32,3)))\n",
    "model.add(MaxPooling2D(pool_size=(2,2)))\n",
    "model.add(Dropout(0.25))\n",
    "model.add(Flatten())\n",
    "model.add(Dense(64, activation='relu', kernel_regularizer= regularizers.l2(0.01)))\n",
    "# model.add(Dense(120, activation='relu'))\n",
    "# model.add(Dropout(0.5))\n",
    "# model.add(Dense(84, activation='relu'))\n",
    "# model.add(Dropout(0.5))\n",
    "model.add(Dense(43, activation='softmax'))\n"
   ]
  },
  {
   "cell_type": "code",
   "execution_count": 5,
   "metadata": {},
   "outputs": [],
   "source": [
    "#model run\n",
    "#model.compile(loss='categorical_crossentropy',optimizer='adam',metrics=['accuracy'])\n",
    "model.compile(loss='binary_crossentropy',optimizer='rmsprop',metrics=['accuracy'])"
   ]
  },
  {
   "cell_type": "code",
   "execution_count": 6,
   "metadata": {},
   "outputs": [
    {
     "name": "stdout",
     "output_type": "stream",
     "text": [
      "Train on 34799 samples, validate on 4410 samples\n",
      "Epoch 1/12\n",
      "34799/34799 [==============================] - 34s 967us/step - loss: 0.1017 - acc: 0.9781 - val_loss: 0.0852 - val_acc: 0.9773\n",
      "Epoch 2/12\n",
      "34799/34799 [==============================] - 34s 983us/step - loss: 0.0677 - acc: 0.9815 - val_loss: 0.0691 - val_acc: 0.9806\n",
      "Epoch 3/12\n",
      "34799/34799 [==============================] - 34s 975us/step - loss: 0.0595 - acc: 0.9836 - val_loss: 0.0622 - val_acc: 0.9832\n",
      "Epoch 4/12\n",
      "34799/34799 [==============================] - 34s 975us/step - loss: 0.0536 - acc: 0.9854 - val_loss: 0.0591 - val_acc: 0.9826\n",
      "Epoch 5/12\n",
      "34799/34799 [==============================] - 34s 977us/step - loss: 0.0487 - acc: 0.9871 - val_loss: 0.0518 - val_acc: 0.9859\n",
      "Epoch 6/12\n",
      "34799/34799 [==============================] - 34s 986us/step - loss: 0.0453 - acc: 0.9882 - val_loss: 0.0512 - val_acc: 0.9858\n",
      "Epoch 7/12\n",
      "34799/34799 [==============================] - 34s 985us/step - loss: 0.0427 - acc: 0.9893 - val_loss: 0.0399 - val_acc: 0.9907\n",
      "Epoch 8/12\n",
      "34799/34799 [==============================] - 34s 981us/step - loss: 0.0402 - acc: 0.9901 - val_loss: 0.0425 - val_acc: 0.9899\n",
      "Epoch 9/12\n",
      "34799/34799 [==============================] - 35s 997us/step - loss: 0.0383 - acc: 0.9909 - val_loss: 0.0435 - val_acc: 0.9889\n",
      "Epoch 10/12\n",
      "34799/34799 [==============================] - 35s 1ms/step - loss: 0.0370 - acc: 0.9913 - val_loss: 0.0424 - val_acc: 0.9903\n",
      "Epoch 11/12\n",
      "34799/34799 [==============================] - 35s 1ms/step - loss: 0.0357 - acc: 0.9918 - val_loss: 0.0390 - val_acc: 0.9909\n",
      "Epoch 12/12\n",
      "34799/34799 [==============================] - 34s 988us/step - loss: 0.0347 - acc: 0.9920 - val_loss: 0.0336 - val_acc: 0.9927\n",
      "dict_keys(['val_loss', 'val_acc', 'loss', 'acc'])\n"
     ]
    }
   ],
   "source": [
    "#gather history info\n",
    "history = model.fit(X_train, Y_train, validation_data=(X_val,Y_val),batch_size=32, epochs=12, verbose=1)\n",
    "\n",
    "# list all data in history\n",
    "print(history.history.keys())"
   ]
  },
  {
   "cell_type": "code",
   "execution_count": 7,
   "metadata": {},
   "outputs": [
    {
     "name": "stdout",
     "output_type": "stream",
     "text": [
      "12\n",
      "12\n"
     ]
    },
    {
     "data": {
      "image/png": "[encoded data removed]",
      "text/plain": [
       "<matplotlib.figure.Figure at 0x181b698fd0>"
      ]
     },
     "metadata": {},
     "output_type": "display_data"
    },
    {
     "data": {
      "image/png": "[encoded data removed]",
      "text/plain": [
       "<matplotlib.figure.Figure at 0x1852723828>"
      ]
     },
     "metadata": {},
     "output_type": "display_data"
    }
   ],
   "source": [
    "%matplotlib inline\n",
    "# summarize history for accuracy\n",
    "acc = history.history['acc']\n",
    "print(len(acc))\n",
    "val_acc = history.history['val_acc']\n",
    "epochs = range(1, len(acc)+1)\n",
    "print(len(acc))\n",
    "\n",
    "plt.plot(epochs, acc, label='training acc')\n",
    "plt.plot(epochs, val_acc, label='validation acc')\n",
    "plt.title('model accuracy')\n",
    "#plt.ylabel('accuracy')\n",
    "plt.xlabel('epoch')\n",
    "plt.legend(['train', 'test'], loc='upper left')\n",
    "plt.show()\n",
    "# summarize history for loss\n",
    "plt.plot(history.history['loss'])\n",
    "plt.plot(history.history['val_loss'])\n",
    "plt.title('model loss')\n",
    "plt.ylabel('loss')\n",
    "plt.xlabel('epoch')\n",
    "plt.legend(['train', 'test'], loc='upper left')\n",
    "plt.show()"
   ]
  },
  {
   "cell_type": "code",
   "execution_count": null,
   "metadata": {},
   "outputs": [],
   "source": []
  }
 ],
 "metadata": {
  "kernelspec": {
   "display_name": "Python 3",
   "language": "python",
   "name": "python3"
  },
  "language_info": {
   "codemirror_mode": {
    "name": "ipython",
    "version": 3
   },
   "file_extension": ".py",
   "mimetype": "text/x-python",
   "name": "python",
   "nbconvert_exporter": "python",
   "pygments_lexer": "ipython3",
   "version": "3.6.5"
  }
 },
 "nbformat": 4,
 "nbformat_minor": 2
}
